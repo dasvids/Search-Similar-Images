{
 "cells": [
  {
   "cell_type": "code",
   "execution_count": 22,
   "metadata": {},
   "outputs": [],
   "source": [
    "import numpy as np\n",
    "import cv2 as cv\n",
    "import matplotlib.pyplot as plt\n",
    "import os\n",
    "from sklearn.cluster import KMeans\n",
    "from joblib import dump, load\n",
    "import pandas as pd\n",
    "from sklearn.neighbors import NearestNeighbors"
   ]
  },
  {
   "cell_type": "code",
   "execution_count": 23,
   "metadata": {},
   "outputs": [],
   "source": [
    "des_arr = np.array([])\n",
    "for image in os.listdir('train'):\n",
    "    path = os.path.join('train',image)\n",
    "    img = cv.imread(path)\n",
    "    img = cv.cvtColor(img, cv.COLOR_BGR2GRAY)\n",
    "    sift = cv.SIFT_create()\n",
    "    _, des = sift.detectAndCompute(img,None)\n",
    "    des_arr = des if des_arr.size == 0 else np.vstack((des_arr, des))"
   ]
  },
  {
   "cell_type": "code",
   "execution_count": 24,
   "metadata": {},
   "outputs": [
    {
     "name": "stderr",
     "output_type": "stream",
     "text": [
      "c:\\Users\\nedor\\AppData\\Local\\Programs\\Python\\Python311\\Lib\\site-packages\\sklearn\\cluster\\_kmeans.py:1416: FutureWarning: The default value of `n_init` will change from 10 to 'auto' in 1.4. Set the value of `n_init` explicitly to suppress the warning\n",
      "  super()._check_params_vs_input(X, default_n_init=10)\n"
     ]
    }
   ],
   "source": [
    "kmeans = KMeans(n_clusters=512, random_state=0).fit(des_arr)"
   ]
  },
  {
   "cell_type": "code",
   "execution_count": 25,
   "metadata": {},
   "outputs": [
    {
     "data": {
      "text/plain": [
       "['kmeans.joblib']"
      ]
     },
     "execution_count": 25,
     "metadata": {},
     "output_type": "execute_result"
    }
   ],
   "source": [
    "dump(kmeans, 'kmeans.joblib') "
   ]
  },
  {
   "cell_type": "code",
   "execution_count": 44,
   "metadata": {},
   "outputs": [],
   "source": [
    "def vectorize_image(image:np.array,model,n_clusters=512):\n",
    "    _,des = sift.detectAndCompute(image,None)\n",
    "    classes = model.predict(des)\n",
    "    hist = np.zeros(n_clusters)\n",
    "    for clss in classes:\n",
    "        hist[clss] += 1\n",
    "\n",
    "    hist /= len(classes)\n",
    "    return hist"
   ]
  },
  {
   "cell_type": "code",
   "execution_count": 15,
   "metadata": {},
   "outputs": [
    {
     "name": "stdout",
     "output_type": "stream",
     "text": [
      "Создана новая директория с 1000 изображениями: D:\\LabsCV\\lab13\\Search-Similar-Images\\db\n"
     ]
    }
   ],
   "source": [
    "# import shutil\n",
    "# import random\n",
    "\n",
    "# source_folder = r'D:\\LabsCV\\lab13\\Search-Similar-Images\\VOCdevkit\\VOC2012\\JPEGImages'\n",
    "# destination_folder = r'D:\\LabsCV\\lab13\\Search-Similar-Images\\db'\n",
    "\n",
    "# if not os.path.exists(destination_folder):\n",
    "#     os.makedirs(destination_folder)\n",
    "\n",
    "# # Получаем список всех файлов в исходной директории\n",
    "# all_files = os.listdir(source_folder)\n",
    "\n",
    "# # Выбираем случайные 1000 файлов\n",
    "# selected_files = random.sample(all_files, min(1000, len(all_files)))\n",
    "\n",
    "# # Копируем выбранные файлы в новую директорию\n",
    "# for file_name in selected_files:\n",
    "#     source_path = os.path.join(source_folder, file_name)\n",
    "#     destination_path = os.path.join(destination_folder, file_name)\n",
    "#     shutil.copyfile(source_path, destination_path)\n",
    "\n",
    "# print(\"Создана новая директория с 1000 изображениями:\", destination_folder)"
   ]
  },
  {
   "cell_type": "code",
   "execution_count": 41,
   "metadata": {},
   "outputs": [],
   "source": [
    "db_csv_name = 'db.csv'"
   ]
  },
  {
   "cell_type": "code",
   "execution_count": 52,
   "metadata": {},
   "outputs": [],
   "source": [
    "df_list = [\n",
    "    {\n",
    "        'uid': ind + 1,\n",
    "        'filepath': os.path.join('db', image),\n",
    "        'encoding_vector': vectorize_image(cv.imread(os.path.join('db', image)), kmeans)\n",
    "    }\n",
    "    for ind, image in enumerate(os.listdir('db'))\n",
    "]\n",
    "\n",
    "df = pd.DataFrame(df_list)\n",
    "df['encoding_vector'] = df['encoding_vector'].apply(lambda x: np.array2string(x, separator=','))\n",
    "df.to_csv(db_csv_name, mode='a', header=not os.path.exists(db_csv_name), sep='\\t', index=False)"
   ]
  },
  {
   "cell_type": "code",
   "execution_count": 53,
   "metadata": {},
   "outputs": [],
   "source": [
    "db = pd.read_csv('db.csv',delimiter='\\t')\n",
    "db['encoding_vector'] = db['encoding_vector'].apply(lambda x: eval(x))"
   ]
  },
  {
   "cell_type": "code",
   "execution_count": 54,
   "metadata": {},
   "outputs": [],
   "source": [
    "X = np.array(db['encoding_vector'].tolist())\n",
    "nbrs = NearestNeighbors(n_neighbors=5, metric='cosine').fit(X)"
   ]
  }
 ],
 "metadata": {
  "kernelspec": {
   "display_name": "Python 3",
   "language": "python",
   "name": "python3"
  },
  "language_info": {
   "codemirror_mode": {
    "name": "ipython",
    "version": 3
   },
   "file_extension": ".py",
   "mimetype": "text/x-python",
   "name": "python",
   "nbconvert_exporter": "python",
   "pygments_lexer": "ipython3",
   "version": "3.11.7"
  }
 },
 "nbformat": 4,
 "nbformat_minor": 2
}
